{
 "cells": [
  {
   "cell_type": "code",
   "execution_count": 1,
   "id": "0f41cc47",
   "metadata": {},
   "outputs": [],
   "source": [
    "import pandas as pd\n",
    "import matplotlib.pyplot as plt\n",
    "import numpy as np\n",
    "import time\n",
    "import re\n",
    "pd.options.mode.use_inf_as_na = True\n",
    "pd.set_option('display.float_format',lambda x:'%.2f' % x)\n",
    "# matplotlib其实是不支持显示中文的 显示中文需要一行代码设置字体\n",
    "plt.rcParams['font.family'] = 'SimHei'\n",
    "plt.rcParams['axes.unicode_minus'] = False   # 步骤二（解决坐标轴负数的负号显示问题）\n",
    "plt.style.use('fivethirtyeight')"
   ]
  },
  {
   "cell_type": "markdown",
   "id": "cbd4d19c",
   "metadata": {},
   "source": [
    "# 分析维度调用"
   ]
  },
  {
   "cell_type": "code",
   "execution_count": 2,
   "id": "db58ff58",
   "metadata": {},
   "outputs": [],
   "source": [
    "# 剩余本金分析\n",
    "def Remaining_Principal_V1(x):\n",
    "    x1 = x.groupby('剩余本金区间')['剩余本金'].sum()   \n",
    "    x1 = x1.sort_values(ascending=False)\n",
    "    x1 = pd.DataFrame(x1)\n",
    "    x1['占比%'] = x1['剩余本金'] / x1['剩余本金'].sum()\n",
    "    fig,ax = plt.subplots(figsize=(12,4))\n",
    "    ax.bar(x1.index,x1['占比%'])\n",
    "    plt.title(\"剩余本金分布\") \n",
    "    plt.yticks([])\n",
    "    for i,j in zip(x1.index,x1['占比%']):\n",
    "        plt.text(i,j,str(round(j*100))+\"%\",horizontalalignment='center')\n",
    "    x1['剩余本金'] = x1['剩余本金'].astype('int')\n",
    "    x1['占比%'] = x1['占比%'] * 100\n",
    "    x1['占比%'] = x1['占比%'].astype('int')\n",
    "    print(x1)"
   ]
  },
  {
   "cell_type": "code",
   "execution_count": null,
   "id": "59650578",
   "metadata": {},
   "outputs": [],
   "source": []
  },
  {
   "cell_type": "code",
   "execution_count": 3,
   "id": "f3dc654b",
   "metadata": {},
   "outputs": [],
   "source": [
    "# 贷款日期分布\n",
    "def Loan_Date_V1(x):\n",
    "    x['贷款日期'] = x['贷款日期'].astype('str')\n",
    "    x1 = x.groupby('贷款日期')['贷款日期'].count()\n",
    "    x1 = pd.DataFrame(x1)\n",
    "    x1['占比%'] = x1['贷款日期'] / x1['贷款日期'].sum()\n",
    "    x1.sort_values(\"占比%\",ascending=False,inplace=True)\n",
    "    fig,ax = plt.subplots(figsize=(12,4))\n",
    "    ax.bar(x1.index,x1['占比%'])\n",
    "    plt.title(\"贷款日期分布\") \n",
    "    plt.yticks([])\n",
    "    for i,j in zip(x1.index,x1['占比%']):\n",
    "        plt.text(i,j,str(round(j*100))+\"%\",horizontalalignment='center')\n",
    "    x1['贷款日期'] = x1['贷款日期'].astype('int')\n",
    "    x1['占比%'] = x1['占比%'] * 100\n",
    "    x1['占比%'] = x1['占比%'].astype('int')\n",
    "    x1.rename(columns={'贷款日期':'笔数'},inplace=True)\n",
    "    print(x1)"
   ]
  },
  {
   "cell_type": "code",
   "execution_count": null,
   "id": "e779e760",
   "metadata": {},
   "outputs": [],
   "source": []
  },
  {
   "cell_type": "code",
   "execution_count": 4,
   "id": "ce17533d",
   "metadata": {},
   "outputs": [],
   "source": [
    "# 账龄分析\n",
    "def Aging_V1(x):\n",
    "    x['逾期天数区间'] = x['逾期天数区间'].astype('str')\n",
    "    x1 = x.groupby('逾期天数区间')['逾期天数区间'].count()\n",
    "    x1 = pd.DataFrame(x1)\n",
    "    x1['占比%'] = x1['逾期天数区间'] / x1['逾期天数区间'].sum()    \n",
    "    x1.sort_values('占比%',ascending=False,inplace=True)\n",
    "    fig,ax = plt.subplots(figsize=(12,4))\n",
    "    ax.bar(x1.index,x1['占比%'])\n",
    "    plt.title(\"账龄区间分布\") \n",
    "    plt.yticks([])\n",
    "    for i,j in zip(x1.index,x1['占比%']):\n",
    "        plt.text(i,j,str(round(j*100))+\"%\",horizontalalignment='center')\n",
    "    x1['占比%'] = x1['占比%'] * 100\n",
    "    x1['占比%'] = x1['占比%'].astype('int')  \n",
    "    print(x1)"
   ]
  },
  {
   "cell_type": "code",
   "execution_count": null,
   "id": "5cc93897",
   "metadata": {},
   "outputs": [],
   "source": []
  },
  {
   "cell_type": "code",
   "execution_count": 5,
   "id": "63921325",
   "metadata": {},
   "outputs": [],
   "source": [
    "# 借款人年龄\n",
    "def age_block(x):\n",
    "    if x>=1 and x<20:\n",
    "        return '20岁下'\n",
    "    elif x>=20 and x<30:\n",
    "        return '20~30岁'\n",
    "    elif x>=30 and x<40:\n",
    "        return '30~40岁'\n",
    "    elif x>=40 and x<50:\n",
    "        return \"40~50岁\"\n",
    "    elif x>=50 and x<60:\n",
    "        return \"50~60岁\"\n",
    "    elif x>=60 and x<70:\n",
    "        return \"60~70岁\"\n",
    "    elif x>=70:\n",
    "        return \"70岁+\"\n",
    "\n",
    "def age_V1(x):\n",
    "    x['年龄区间'] = x['年龄'].apply(lambda x:age_block(x))\n",
    "    x1 = x.groupby('年龄区间')['年龄区间'].count()    \n",
    "    x1 = pd.DataFrame(x1)\n",
    "    x1['占比%'] = x1['年龄区间'] / x1['年龄区间'].sum()    \n",
    "    x1.sort_values(\"占比%\",ascending=False,inplace=True)\n",
    "    fig,ax = plt.subplots(figsize=(12,4))\n",
    "    ax.bar(x1.index,x1['占比%'])\n",
    "    plt.title(\"年龄分布\")  \n",
    "    plt.yticks([])\n",
    "    for i,j in zip(x1.index,x1['占比%']):\n",
    "        plt.text(i,j,str(round(j*100))+\"%\",horizontalalignment='center')\n",
    "    x1['占比%'] = x1['占比%'] * 100\n",
    "    x1['占比%'] = x1['占比%'].astype('int')  \n",
    "    print(x1)"
   ]
  },
  {
   "cell_type": "code",
   "execution_count": null,
   "id": "b7153b1d",
   "metadata": {},
   "outputs": [],
   "source": []
  },
  {
   "cell_type": "code",
   "execution_count": null,
   "id": "b962c207",
   "metadata": {},
   "outputs": [],
   "source": []
  },
  {
   "cell_type": "code",
   "execution_count": 6,
   "id": "dda47e16",
   "metadata": {},
   "outputs": [],
   "source": [
    "# 借款人性别\n",
    "def sex_V1(x):\n",
    "    x1 = x.groupby('性别')['性别'].count()  \n",
    "    x1 = pd.DataFrame(x1)\n",
    "    x1['占比%'] = x1['性别'] / x1['性别'].sum()    \n",
    "    x1.sort_values('占比%',ascending=False,inplace=True)\n",
    "    fig,ax = plt.subplots(figsize=(12,4))\n",
    "    ax.bar(x1.index,x1['占比%'])\n",
    "    plt.title(\"性别分布\")  \n",
    "    plt.yticks([])\n",
    "    for i,j in zip(x1.index,x1['占比%']):\n",
    "        plt.text(i,j,str(round(j*100))+\"%\",horizontalalignment='center')\n",
    "    x1['占比%'] = x1['占比%'] * 100\n",
    "    x1['占比%'] = x1['占比%'].astype('int')  \n",
    "    print(x1)"
   ]
  },
  {
   "cell_type": "code",
   "execution_count": null,
   "id": "b4aac58a",
   "metadata": {},
   "outputs": [],
   "source": []
  },
  {
   "cell_type": "code",
   "execution_count": 7,
   "id": "3e1846e9",
   "metadata": {},
   "outputs": [],
   "source": [
    "# 户籍省份 主体分析\n",
    "def province_V1(x):\n",
    "    x1 = x.groupby('省份')['省份'].count().sort_values(ascending=False)[:10]\n",
    "    x1 = x1[x1.index!=\"1\"]\n",
    "    x1 = pd.DataFrame(x1)\n",
    "    x1['占比%'] = x1['省份'] / x1['省份'].sum() \n",
    "    fig,ax = plt.subplots(figsize=(12,4))\n",
    "    ax.plot(x1.index,x1['占比%'])\n",
    "    plt.title(\"Top10_省份_分布\")  \n",
    "    plt.yticks([])\n",
    "    for i,j in zip(x1.index,x1['占比%']):\n",
    "        plt.text(i,j,str(round(j*100))+\"%\",horizontalalignment='center')\n",
    "    x1['占比%'] = x1['占比%'] * 100\n",
    "    x1['占比%'] = x1['占比%'].astype('int')  \n",
    "    print(x1)"
   ]
  },
  {
   "cell_type": "code",
   "execution_count": null,
   "id": "966c3405",
   "metadata": {},
   "outputs": [],
   "source": []
  },
  {
   "cell_type": "code",
   "execution_count": null,
   "id": "c9285a31",
   "metadata": {},
   "outputs": [],
   "source": []
  },
  {
   "cell_type": "code",
   "execution_count": 8,
   "id": "82b8a7fd",
   "metadata": {},
   "outputs": [],
   "source": [
    "# 借款人欺诈率\n",
    "def fake_V1(x):\n",
    "    pass"
   ]
  },
  {
   "cell_type": "code",
   "execution_count": 9,
   "id": "2efee1f3",
   "metadata": {},
   "outputs": [],
   "source": [
    "# 借款人学历分布\n",
    "def school_V1(x):\n",
    "    x['学历'] =  x['学历'].apply(lambda x:\"1\" if x==\"XNA\" else x)\n",
    "    x1 = x.groupby('学历')['学历'].count().sort_values(ascending=False)[:8]\n",
    "    x1 = x1[x1.index!=\"1\"]\n",
    "    x1 = pd.DataFrame(x1)\n",
    "    x1['占比%'] = x1['学历'] / x1['学历'].sum() \n",
    "    fig,ax = plt.subplots(figsize=(12,4))\n",
    "    ax.plot(x1.index,x1['占比%'])\n",
    "    plt.title(\"学历或工作_分布\")  \n",
    "    plt.yticks([])\n",
    "    for i,j in zip(x1.index,x1['占比%']):\n",
    "        plt.text(i,j,str(round(j*100))+\"%\",horizontalalignment='center')\n",
    "    x1['占比%'] = x1['占比%'] * 100\n",
    "    x1['占比%'] = x1['占比%'].astype('int')  \n",
    "    print(x1)"
   ]
  },
  {
   "cell_type": "code",
   "execution_count": null,
   "id": "c7557f5e",
   "metadata": {},
   "outputs": [],
   "source": []
  },
  {
   "cell_type": "code",
   "execution_count": null,
   "id": "719cec6e",
   "metadata": {},
   "outputs": [],
   "source": []
  },
  {
   "cell_type": "markdown",
   "id": "55523b83",
   "metadata": {},
   "source": [
    "# 身份证解析"
   ]
  },
  {
   "cell_type": "code",
   "execution_count": 10,
   "id": "e247222c",
   "metadata": {},
   "outputs": [],
   "source": [
    "dic={'11':'北京市','12':'天津市','13':'河北省','14':'山西省','15':'内蒙','22':'吉林省',\n",
    "     '23':'黑龙江省','31':'上海市',  '32':'江苏省','33':'浙江省','35':'福建省','36':'江西省',\n",
    "     '37':'山东省','41':'河南省','42':'湖北省','44':'广东省','45':'广西','46':'海南省',\n",
    "     '50':'重庆市','51':'四川省','53':'云南省','54':'西藏','61':'陕西省','62':'甘肃省',\n",
    "     '63':'青海省','65':'新疆','71':'台湾省','81':'香港','82':'澳门','43':'湖南'}\n",
    "\n",
    "sx='猴鸡狗猪鼠牛虎兔龙蛇马羊'\n",
    "\n",
    "n = ('摩羯座','水瓶座','双鱼座','白羊座','金牛座','双子座','巨蟹座','狮子座','处女座','天秤座','天蝎座','射手座')\n",
    "\n",
    "class ID_V1(object):\n",
    "    \n",
    "    def __init__(self,x):\n",
    "        self.x = x\n",
    "        \n",
    "    # 身份证年龄解析函数\n",
    "    def age_v1(self):\n",
    "       self.x['年龄'] = self.x['身份证'].apply(lambda y: str(int(time.localtime(time.time())[0])-int(y[6:10] if len(str(y))==18 else 1)))\n",
    "       \n",
    "    # 通过身份证，提取性别\n",
    "    def sex_v1(self):\n",
    "        self.x['性别'] = self.x['身份证'].apply(lambda y: \"男\" if len(str(y))!=18 else '女' if int(y[16:17])%2==0 else \"男\" if int(y[16:17])%2==1 else \"1\"  )\n",
    "        \n",
    "    # 报错\n",
    "#     def tr(y):\n",
    "#         try:\n",
    "#             return dic.get(y[0:2])\n",
    "#         except:\n",
    "#             print(y)\n",
    "    # 通过身份证，提取省份\n",
    "    def province_v1(self):\n",
    "        self.x['省份'] = self.x['身份证'].apply(lambda y: dic.get(y[0:2]) if (len(y) == 18 and y[:16].isdigit()) else \"1\")\n",
    "        \n",
    "#         try:\n",
    "#     raise NameError\n",
    "# except:\n",
    "#     raise\n",
    "\n",
    "    # 提取债权人 生肖\n",
    "    def shengxiao_v1(self,y):\n",
    "        if len(str(y))==18:\n",
    "            year = y[6:10]\n",
    "            y1 = int(year)%12\n",
    "            return sx[y1]\n",
    "        else:\n",
    "            return 1\n",
    "            \n",
    "    # 提取债权人 星座\n",
    "    def star_v1(self,y):\n",
    "        if len(str(y))==18:\n",
    "            month=int(y[10:12])\n",
    "            day=int(y[12:14])\n",
    "            n = ('摩羯座','水瓶座','双鱼座','白羊座','金牛座','双子座','巨蟹座','狮子座','处女座','天秤座','天蝎座','射手座')\n",
    "            d = ((1,20),(2,19),(3,21),(4,21),(5,21),(6,22),(7,23),(8,23),(9,23),(10,23),(11,23),(12,23))\n",
    "            m=n[len(list(filter(lambda y:y<(month,day),d)))%12]\n",
    "            return m\n",
    "        else:\n",
    "            return 1"
   ]
  },
  {
   "cell_type": "code",
   "execution_count": null,
   "id": "c3932b1c",
   "metadata": {},
   "outputs": [],
   "source": []
  },
  {
   "cell_type": "markdown",
   "id": "8f75d3eb",
   "metadata": {},
   "source": [
    "# 特征名统一修改函数"
   ]
  },
  {
   "cell_type": "code",
   "execution_count": 11,
   "id": "e880b51c",
   "metadata": {},
   "outputs": [],
   "source": [
    "ID_name = ['身份证','身份证号','身份证号码','身份证编码','借款人身份证','身份证信息','被申请人身份证号','证号码']\n",
    "\n",
    "Remaining_Principal_name = ['剩余本金','剩余金额','剩余本金总额',\"剩余未偿本金\",'待还本金','委外剩余本金']\n",
    "\n",
    "Loan_Date_name = ['放款日期','贷款期限','放贷时间','放贷日期','放贷年份','放款年份','贷款日期','合同生效日期']\n",
    "\n",
    "Age_name = ['年龄','当前年龄','年岁','岁数','目前年龄']\n",
    "\n",
    "Sex_name = ['性别']\n",
    "\n",
    "Province_name = ['省份']\n",
    "\n",
    "School_name = ['学历','学校','文凭','专业','技能','school','大学','职务','工作']\n",
    "\n",
    "Contract_No_name = ['合同号','合同','借款合同','合同ID','合同编码','合同编号','贷款编号','案号\\n（合同号）']\n",
    "\n",
    "Aging_name = ['逾期天数','逾期时长','逾期日子','截止到2016年9月1日逾期天数']"
   ]
  },
  {
   "cell_type": "code",
   "execution_count": 12,
   "id": "d6a3156a",
   "metadata": {},
   "outputs": [],
   "source": [
    "# 身份证特征名函数\n",
    "def ID_feature(data,feature):\n",
    "    data = data.rename(columns={feature:'身份证'})\n",
    "    return data"
   ]
  },
  {
   "cell_type": "code",
   "execution_count": 13,
   "id": "2ee36ddb",
   "metadata": {},
   "outputs": [],
   "source": [
    "# 剩余本金区间\n",
    "def Remaining_Principal_block(x,mi):\n",
    "    if mi<0:\n",
    "        mi = 0\n",
    "    if x<0:\n",
    "        return \"{}元-3千\".format(round(mi))\n",
    "    if x>=0 and x<3000:\n",
    "        return \"{}元-3千\".format(round(mi))\n",
    "    elif x>=3000 and x<6000:\n",
    "        return \"3千-6千\"\n",
    "    elif x>=6000 and x<10000:\n",
    "        return '6千-1万'\n",
    "    elif x>=10000 and x<30000:\n",
    "        return '1万-3万'\n",
    "    elif x>=30000 and x<50000:\n",
    "        return '3万-5万'\n",
    "    elif x>=50000 and x<100000:\n",
    "        return '5万-10万'\n",
    "    elif x>=100000 and x<150000:\n",
    "        return '10万-15万'\n",
    "    elif x>=150000:\n",
    "        return '15万+'\n",
    "\n",
    "# 剩余本金函数\n",
    "def Remaining_Principal_feature(data,feature):\n",
    "    data = data.rename(columns={feature:'剩余本金'})\n",
    "    data['剩余本金'] = data['剩余本金'].apply(lambda x: x if re.match(r\"\\d+\\.?\\d*\",str(x)) else \"1\")\n",
    "    data['剩余本金'] = data['剩余本金'].astype('int')\n",
    "    data['剩余本金区间'] = data['剩余本金'].apply(lambda x:Remaining_Principal_block(x,min(data['剩余本金'])))\n",
    "    return data"
   ]
  },
  {
   "cell_type": "code",
   "execution_count": 14,
   "id": "f12fc75c",
   "metadata": {},
   "outputs": [],
   "source": [
    "# Remaining_Principal_feature(data_copy,\"剩余本金\")\n",
    "# data_copy['剩余本金'].astype('str')\n",
    "\n",
    "\n",
    "# data_copy['剩余本金'].astype('int')\n",
    "\n"
   ]
  },
  {
   "cell_type": "code",
   "execution_count": 15,
   "id": "aa61694c",
   "metadata": {},
   "outputs": [],
   "source": [
    "# 贷款日期名称调整函数\n",
    "def Loan_Date_feature(data,feature):\n",
    "    data[feature] = data[feature].apply(lambda x: x if re.match(r\"\\d+\\.?\\d*\",str(x)) else \"1\" )\n",
    "    data[feature] = data[feature].astype('str')\n",
    "    data[feature] = data[feature].apply(lambda x:x[0:4])\n",
    "    data = data.rename(columns={feature:'贷款日期'})\n",
    "    return data"
   ]
  },
  {
   "cell_type": "code",
   "execution_count": 16,
   "id": "bc7ec0df",
   "metadata": {},
   "outputs": [],
   "source": [
    "# 逾期天数划分区间\n",
    "def Aging_block(x):\n",
    "    if x>=0:\n",
    "        if x/365==0:\n",
    "            return \"未逾期\"\n",
    "        elif x/365>0 and x/365<=0.082191781:\n",
    "            return \"0~1月\"\n",
    "        elif x/365>0.082191781 and x/365<=0.164383562:\n",
    "            return \"1~2月\"\n",
    "        elif x/365>0.164383562 and x/365<=0.246575342:\n",
    "            return \"2~3月\"\n",
    "        elif x/365>0.246575342 and x/365<=0.49:\n",
    "            return \"3~6月\"\n",
    "        elif x/365>0.49 and x/365<=1:\n",
    "            return \"6~1年\"\n",
    "        elif x/365>1 and x/365<=3:\n",
    "            return \"1年~3年\"\n",
    "        elif x/365>3 and x/365<=6:\n",
    "            return \"3年~6年\"\n",
    "        elif x/365>6 and x/365<=9:\n",
    "            return \"6年~9年\"\n",
    "        elif x/365>9 and x/365<=15:\n",
    "            return \"9年~15年\"\n",
    "        elif x/365>15:\n",
    "            return \"15年+\"\n",
    "    else:\n",
    "        return \"为负数-无划分\"\n",
    "        \n",
    "\n",
    "# 账龄函数调整\n",
    "def Aging_feature(data,feature):\n",
    "    data.rename(columns={feature:'逾期天数'},inplace=True)\n",
    "    data['逾期天数'] = data['逾期天数'].apply(lambda x: x if re.match(r\"\\d+\\.?\\d*\",str(x)) else \"1\" )\n",
    "    data['逾期天数'].fillna(-1,inplace=True)\n",
    "    data['逾期天数'] = data['逾期天数'].astype('int')\n",
    "    data['逾期天数区间'] = data['逾期天数'].apply(lambda x:Aging_block(x))\n",
    "    return data"
   ]
  },
  {
   "cell_type": "code",
   "execution_count": null,
   "id": "5cca1f73",
   "metadata": {},
   "outputs": [],
   "source": []
  },
  {
   "cell_type": "code",
   "execution_count": null,
   "id": "056c21e3",
   "metadata": {},
   "outputs": [],
   "source": []
  },
  {
   "cell_type": "code",
   "execution_count": 17,
   "id": "64789e4d",
   "metadata": {},
   "outputs": [],
   "source": [
    "# 借款人年龄名称调整函数\n",
    "def Age_feature(data,feature):\n",
    "    data[feature] = data[feature].apply(lambda x: x if re.match(r\"\\d+\\.?\\d*\",str(x)) else \"1\" )\n",
    "    data = data.rename(columns={feature:'年龄'})\n",
    "    return data"
   ]
  },
  {
   "cell_type": "code",
   "execution_count": null,
   "id": "46b109a0",
   "metadata": {},
   "outputs": [],
   "source": []
  },
  {
   "cell_type": "code",
   "execution_count": 18,
   "id": "eb826824",
   "metadata": {},
   "outputs": [],
   "source": [
    "# 借款人性别函数调整\n",
    "def Sex_feature(data,feature):\n",
    "    data = data.rename(columns={feature:'性别'})\n",
    "    return data"
   ]
  },
  {
   "cell_type": "code",
   "execution_count": 19,
   "id": "9f5bc714",
   "metadata": {},
   "outputs": [],
   "source": [
    "# 户籍省份 主体分析\n",
    "def Province_feature(data,feature):\n",
    "    data = data.rename(columns={feature:'省份'})\n",
    "    return data"
   ]
  },
  {
   "cell_type": "code",
   "execution_count": 20,
   "id": "22dd1728",
   "metadata": {},
   "outputs": [],
   "source": [
    "# 借款人学历分布\n",
    "def School_feature(data,feature):\n",
    "    data = data.rename(columns={feature:'学历'})\n",
    "    return data"
   ]
  },
  {
   "cell_type": "code",
   "execution_count": null,
   "id": "096f4240",
   "metadata": {},
   "outputs": [],
   "source": []
  },
  {
   "cell_type": "code",
   "execution_count": 21,
   "id": "8e3b6260",
   "metadata": {},
   "outputs": [],
   "source": [
    "# 合同号调整\n",
    "def Contract_No_feature(data,feature):\n",
    "    data = data.rename(columns={feature:'合同号'})\n",
    "    return data"
   ]
  },
  {
   "cell_type": "code",
   "execution_count": null,
   "id": "4eddec43",
   "metadata": {},
   "outputs": [],
   "source": []
  },
  {
   "cell_type": "code",
   "execution_count": null,
   "id": "ae9c990a",
   "metadata": {},
   "outputs": [],
   "source": []
  },
  {
   "cell_type": "markdown",
   "id": "c22e39d0",
   "metadata": {},
   "source": [
    "# 导入数据"
   ]
  },
  {
   "cell_type": "code",
   "execution_count": 22,
   "id": "a5db320b",
   "metadata": {},
   "outputs": [],
   "source": [
    "path = r\"C:\\Users\\Administrator\\Desktop\\聚睿\\普罗米修\\1.资产交割样表_20230216.xlsx\"\n",
    "data = pd.read_excel(path,sheet_name=0)"
   ]
  },
  {
   "cell_type": "code",
   "execution_count": null,
   "id": "c0e451fe",
   "metadata": {},
   "outputs": [],
   "source": []
  },
  {
   "cell_type": "code",
   "execution_count": 23,
   "id": "b6258261",
   "metadata": {},
   "outputs": [],
   "source": [
    "data_copy = data.copy()"
   ]
  },
  {
   "cell_type": "code",
   "execution_count": 24,
   "id": "d191d556",
   "metadata": {},
   "outputs": [
    {
     "data": {
      "text/plain": [
       "Index(['序号', '合同号', '客户姓名', '办单渠道', '身份证号', '证件类型', '逾期开始时间', '逾期天数', '贷款金额',\n",
       "       '贷款日期',\n",
       "       ...\n",
       "       'gps与手机号归属地是否一致', 'ip与gps所在城市是否一致', 'ip与手机号归属地是否一致', '品牌', '操作系统',\n",
       "       '旧版手机', '旧版操作系统', '使用不同设备的个数', '手机价钱', '设备迁徙方向'],\n",
       "      dtype='object', length=105)"
      ]
     },
     "execution_count": 24,
     "metadata": {},
     "output_type": "execute_result"
    }
   ],
   "source": [
    "data_copy.columns"
   ]
  },
  {
   "cell_type": "markdown",
   "id": "2e5a9cb1",
   "metadata": {},
   "source": [
    "# 解析身份证信息 "
   ]
  },
  {
   "cell_type": "code",
   "execution_count": 25,
   "id": "ede56c81",
   "metadata": {},
   "outputs": [],
   "source": [
    "# 修改身份证特征名称\n",
    "for i in data_copy.columns:\n",
    "    if i in ID_name:\n",
    "        data_copy = ID_feature(data_copy,i)\n",
    "\n",
    "# 清洗身份证信息\n",
    "judge_id = r'^\\d{6}((19\\d{2})|((200\\d)|(201[0,8])))((0[13578]((0[1-9])|([1-2]\\d)|30|31))|(0[2]((0[1-9])|([1-2]\\d)))|(0[2469]((0[1-9])|([1-2]\\d)|30))|(11((0[1-9])|([1-2]\\d)|30))|(12((0[1-9])|([1-2]\\d)|30|31)))\\d{3}([0-9]|X)$'\n",
    "data_copy['身份证'].fillna(0,inplace=True)\n",
    "data_copy['身份证'] = data_copy['身份证'].astype('str')\n",
    "data_copy['身份证'] = data_copy['身份证'].apply(lambda y: y if re.match(judge_id,y) else '1')\n",
    "        \n",
    "# 解析身份证信息\n",
    "name = ID_V1(data_copy)\n",
    "name.age_v1()\n",
    "name.sex_v1()\n",
    "name.province_v1()\n",
    "data_copy['星座'] = data_copy['身份证'].apply(lambda x:name.star_v1(x))\n",
    "data_copy['生肖'] = data_copy['身份证'].apply(lambda x:name.shengxiao_v1(x))\n",
    "data_copy['年龄'] = data_copy['年龄'].astype('int')\n",
    "data_copy['年龄'] = data_copy['年龄'].apply(lambda y: \"1\" if y>120 else y)"
   ]
  },
  {
   "cell_type": "code",
   "execution_count": 26,
   "id": "d61d722e",
   "metadata": {},
   "outputs": [],
   "source": [
    "# data_copy.groupby('省份')['省份'].count()"
   ]
  },
  {
   "cell_type": "code",
   "execution_count": null,
   "id": "2dcd50b1",
   "metadata": {},
   "outputs": [],
   "source": []
  },
  {
   "cell_type": "markdown",
   "id": "8c3982ff",
   "metadata": {},
   "source": [
    "# 调整特征名称"
   ]
  },
  {
   "cell_type": "code",
   "execution_count": null,
   "id": "994a6c69",
   "metadata": {},
   "outputs": [],
   "source": []
  },
  {
   "cell_type": "code",
   "execution_count": 27,
   "id": "af6a2b13",
   "metadata": {},
   "outputs": [],
   "source": [
    "# 修改贷款日期特征名称\n",
    "for i in data_copy.columns:\n",
    "    if i in Loan_Date_name:\n",
    "        data_copy = Loan_Date_feature(data_copy,i)"
   ]
  },
  {
   "cell_type": "code",
   "execution_count": 28,
   "id": "d9c9812d",
   "metadata": {},
   "outputs": [],
   "source": [
    "# 修改借款人学历\n",
    "for i in data_copy.columns:\n",
    "    if i in School_name:\n",
    "        data_copy = School_feature(data_copy,i)"
   ]
  },
  {
   "cell_type": "code",
   "execution_count": 29,
   "id": "41b8119f",
   "metadata": {},
   "outputs": [],
   "source": [
    "# 合同 统一修改为 合同号\n",
    "for i in data_copy.columns:\n",
    "    if i in Contract_No_name:\n",
    "        data_copy = Contract_No_feature(data_copy,i)"
   ]
  },
  {
   "cell_type": "code",
   "execution_count": null,
   "id": "2a930870",
   "metadata": {},
   "outputs": [],
   "source": []
  },
  {
   "cell_type": "code",
   "execution_count": null,
   "id": "b0a471a5",
   "metadata": {},
   "outputs": [],
   "source": []
  },
  {
   "cell_type": "code",
   "execution_count": 30,
   "id": "c4fbbd74",
   "metadata": {},
   "outputs": [],
   "source": [
    "# 修改剩余本金特征 及 剩余本金区间 名称\n",
    "for i in data_copy.columns:\n",
    "    if i in Remaining_Principal_name:\n",
    "        data_copy.rename(columns={i:'剩余本金'},inplace=True)\n",
    "        data_copy = Remaining_Principal_feature(data_copy,i)"
   ]
  },
  {
   "cell_type": "code",
   "execution_count": 31,
   "id": "6a9060c6",
   "metadata": {},
   "outputs": [],
   "source": [
    "# 修改身份证名\n",
    "for i in data_copy.columns:\n",
    "    if i in ID_name:\n",
    "        data_copy = ID_feature(data_copy,i)"
   ]
  },
  {
   "cell_type": "code",
   "execution_count": 32,
   "id": "e722afba",
   "metadata": {},
   "outputs": [
    {
     "name": "stderr",
     "output_type": "stream",
     "text": [
      "C:\\Users\\Administrator\\AppData\\Local\\Temp\\ipykernel_16996\\949451115.py:34: SettingWithCopyWarning: \n",
      "A value is trying to be set on a copy of a slice from a DataFrame\n",
      "\n",
      "See the caveats in the documentation: https://pandas.pydata.org/pandas-docs/stable/user_guide/indexing.html#returning-a-view-versus-a-copy\n",
      "  data['逾期天数'].fillna(-1,inplace=True)\n"
     ]
    }
   ],
   "source": [
    "# 修改逾期天数并，并划分区间\n",
    "for i in data_copy.columns:\n",
    "    if i in Aging_name:\n",
    "        data_copy = Aging_feature(data_copy,i)"
   ]
  },
  {
   "cell_type": "code",
   "execution_count": null,
   "id": "5c483ec8",
   "metadata": {},
   "outputs": [],
   "source": []
  },
  {
   "cell_type": "markdown",
   "id": "d24c9161",
   "metadata": {},
   "source": [
    "# # 判断都有哪些固定的特征? 并找出来"
   ]
  },
  {
   "cell_type": "code",
   "execution_count": 33,
   "id": "0fcac9bf",
   "metadata": {},
   "outputs": [],
   "source": [
    "judge_feature_data = []\n",
    "feature_list = ['身份证','合同号','年龄','学历','性别','省份','剩余本金区间','剩余本金','贷款日期','逾期天数区间']"
   ]
  },
  {
   "cell_type": "code",
   "execution_count": 34,
   "id": "e9a88982",
   "metadata": {},
   "outputs": [],
   "source": [
    "# 找出是否有身份证特征\n",
    "for i in feature_list:\n",
    "    if i in list(data_copy.columns):\n",
    "        judge_feature_data.append(i)\n",
    "    else:\n",
    "        print(\"{} 在这个资产包没有！\".format(i))"
   ]
  },
  {
   "cell_type": "markdown",
   "id": "76782faf",
   "metadata": {},
   "source": [
    "# 读取相应的特征，并进行数据预处理，清洗等"
   ]
  },
  {
   "cell_type": "code",
   "execution_count": 35,
   "id": "65ab55b7",
   "metadata": {},
   "outputs": [],
   "source": [
    "data_copy_feature_new = data_copy[judge_feature_data]"
   ]
  },
  {
   "cell_type": "code",
   "execution_count": 36,
   "id": "29daf7f8",
   "metadata": {},
   "outputs": [],
   "source": [
    "# 清洗数据\n",
    "data_copy_feature_new = data_copy_feature_new.drop_duplicates()\n",
    "\n",
    "# 清空缺失值  -  合同号\n",
    "data_copy_feature_new = data_copy_feature_new[data_copy_feature_new['合同号'].notnull()]\n",
    "\n",
    "# 清空缺失值  -  身份证\n",
    "data_copy_feature_new = data_copy_feature_new[data_copy_feature_new['身份证'].notnull()]"
   ]
  },
  {
   "cell_type": "markdown",
   "id": "10ce33d3",
   "metadata": {},
   "source": [
    "# 绘制相应图表，进行数据分析等"
   ]
  },
  {
   "cell_type": "code",
   "execution_count": null,
   "id": "e23118fe",
   "metadata": {},
   "outputs": [],
   "source": []
  },
  {
   "cell_type": "code",
   "execution_count": 37,
   "id": "9ccdacaa",
   "metadata": {},
   "outputs": [],
   "source": [
    "def x1(data_copy_feature_new):\n",
    "    return data_copy_feature_new['合同号'].shape[0]\n",
    "def x2(data_copy_feature_new):\n",
    "    return round(data_copy_feature_new['剩余本金'].sum())\n",
    "def x3_1(data_copy_feature_new):\n",
    "    data_copy_feature_new['年龄'] = data_copy_feature_new['年龄'].astype('int')\n",
    "    return round(data_copy_feature_new['年龄'].mean())\n",
    "def x3_2(data_copy_feature_new):\n",
    "    data_copy_feature_new['年龄'] = data_copy_feature_new['年龄'].astype('int')\n",
    "    return round(data_copy_feature_new['年龄'].mode(),2)[0]\n",
    "def x4_1(data_copy_feature_new):\n",
    "    data_copy_feature_new['贷款日期'] = data_copy_feature_new['贷款日期'].apply(lambda x: x if re.match(r\"\\d+\\.?\\d*\",str(x)) else \"1\" )\n",
    "    data_copy_feature_new['贷款日期'].fillna(\"1\",inplace=True)\n",
    "    data_copy_feature_new['贷款日期'] = data_copy_feature_new['贷款日期'].apply(lambda y:\"1\" if (y==\"#N-A\" or y==\"nan\") else y)\n",
    "    data_copy_feature_new['贷款日期'] = data_copy_feature_new['贷款日期'].astype('int')\n",
    "    return round(data_copy_feature_new['贷款日期'].mean())\n",
    "def x4_2(data_copy_feature_new):\n",
    "    data_copy_feature_new['贷款日期'] = data_copy_feature_new['贷款日期'].astype('int')\n",
    "    return round(data_copy_feature_new['贷款日期'].mode()[0])"
   ]
  },
  {
   "cell_type": "code",
   "execution_count": null,
   "id": "080fb14a",
   "metadata": {},
   "outputs": [],
   "source": []
  },
  {
   "cell_type": "code",
   "execution_count": null,
   "id": "2e649293",
   "metadata": {},
   "outputs": [],
   "source": []
  },
  {
   "cell_type": "code",
   "execution_count": 38,
   "id": "87d89ece",
   "metadata": {},
   "outputs": [
    {
     "name": "stdout",
     "output_type": "stream",
     "text": [
      "资产包数据共有: 33317笔\n",
      "资产包数据共有_剩余本金: 560113716元\n",
      "资产包数据共有_平均剩余本金: 16812元\n",
      "资产包数据共有_平均年龄: 36岁\n",
      "资产包数据共有_平均贷款日期:2016年,众数贷款日期:2017年\n"
     ]
    },
    {
     "name": "stderr",
     "output_type": "stream",
     "text": [
      "C:\\Users\\Administrator\\AppData\\Local\\Temp\\ipykernel_16996\\1898843051.py:13: SettingWithCopyWarning: \n",
      "A value is trying to be set on a copy of a slice from a DataFrame\n",
      "\n",
      "See the caveats in the documentation: https://pandas.pydata.org/pandas-docs/stable/user_guide/indexing.html#returning-a-view-versus-a-copy\n",
      "  data_copy_feature_new['贷款日期'].fillna(\"1\",inplace=True)\n"
     ]
    }
   ],
   "source": [
    "if \"身份证\" in  list(data_copy_feature_new.columns):\n",
    "    print(\"资产包数据共有: {}笔\".format(x1(data_copy_feature_new)))\n",
    "if \"剩余本金\" in  list(data_copy_feature_new.columns):\n",
    "    print(\"资产包数据共有_剩余本金: {}元\".format(x2(data_copy_feature_new)))\n",
    "if \"剩余本金\" in  list(data_copy_feature_new.columns) and (\"身份证\" in  list(data_copy_feature_new.columns) or \"合同号\" in  list(data_copy_feature_new.columns)):\n",
    "    print(\"资产包数据共有_平均剩余本金: {}元\".format(round(x2(data_copy_feature_new) / x1(data_copy_feature_new))))\n",
    "if \"年龄\" in list(data_copy_feature_new.columns):\n",
    "    print(\"资产包数据共有_平均年龄: {}岁\".format(x3_1(data_copy_feature_new)))\n",
    "if \"贷款日期\" in list(data_copy_feature_new.columns):\n",
    "    print(\"资产包数据共有_平均贷款日期:{}年,众数贷款日期:{}年\".format(x4_1(data_copy_feature_new),x4_2(data_copy_feature_new)))\n"
   ]
  },
  {
   "cell_type": "code",
   "execution_count": null,
   "id": "4b451dd7",
   "metadata": {},
   "outputs": [],
   "source": []
  },
  {
   "cell_type": "code",
   "execution_count": 39,
   "id": "17e3b6e9",
   "metadata": {},
   "outputs": [
    {
     "name": "stdout",
     "output_type": "stream",
     "text": [
      "              剩余本金  占比%\n",
      "剩余本金区间                 \n",
      "1万-3万    284761847   50\n",
      "3万-5万    139778108   24\n",
      "6千-1万     53065196    9\n",
      "5万-10万    46510275    8\n",
      "3千-6千     19682307    3\n",
      "15万+       7101756    1\n",
      "10万-15万    4712468    0\n",
      "1元-3千      4501759    0\n"
     ]
    },
    {
     "data": {
      "image/png": "[encoded data removed]",
      "text/plain": [
       "<Figure size 1200x400 with 1 Axes>"
      ]
     },
     "metadata": {},
     "output_type": "display_data"
    }
   ],
   "source": [
    "# 剩余本金分析\n",
    "if '剩余本金' in list(data_copy_feature_new.columns):\n",
    "    Remaining_Principal_V1(data_copy_feature_new)"
   ]
  },
  {
   "cell_type": "code",
   "execution_count": 40,
   "id": "a70acdbc",
   "metadata": {},
   "outputs": [
    {
     "name": "stdout",
     "output_type": "stream",
     "text": [
      "        笔数  占比%\n",
      "贷款日期           \n",
      "2017  7260   21\n",
      "2016  5475   16\n",
      "2019  3721   11\n",
      "2015  3311    9\n",
      "2014  3259    9\n",
      "2012  2563    7\n",
      "2018  2470    7\n",
      "2013  2410    7\n",
      "2020  1384    4\n",
      "2021   732    2\n",
      "2011   659    1\n",
      "2010    44    0\n",
      "2022    28    0\n",
      "1        1    0\n"
     ]
    },
    {
     "data": {
      "image/png": "[encoded data removed]",
      "text/plain": [
       "<Figure size 1200x400 with 1 Axes>"
      ]
     },
     "metadata": {},
     "output_type": "display_data"
    }
   ],
   "source": [
    "# 贷款日期 分析\n",
    "if '贷款日期' in list(data_copy_feature_new.columns):\n",
    "    Loan_Date_V1(data_copy_feature_new)"
   ]
  },
  {
   "cell_type": "code",
   "execution_count": null,
   "id": "2ddbd99d",
   "metadata": {},
   "outputs": [],
   "source": []
  },
  {
   "cell_type": "code",
   "execution_count": 41,
   "id": "9fe3bcff",
   "metadata": {},
   "outputs": [
    {
     "name": "stdout",
     "output_type": "stream",
     "text": [
      "        逾期天数区间  占比%\n",
      "逾期天数区间             \n",
      "3年~6年    11870   35\n",
      "1年~3年     7936   23\n",
      "6年~9年     6524   19\n",
      "9年~15年    3185    9\n",
      "6~1年      2010    6\n",
      "未逾期        497    1\n",
      "0~1月       413    1\n",
      "3~6月       395    1\n",
      "1~2月       269    0\n",
      "2~3月       217    0\n",
      "15年+         1    0\n"
     ]
    },
    {
     "data": {
      "image/png": "[encoded data removed]",
      "text/plain": [
       "<Figure size 1200x400 with 1 Axes>"
      ]
     },
     "metadata": {},
     "output_type": "display_data"
    }
   ],
   "source": [
    "# 账龄分析 分析\n",
    "if '逾期天数区间' in list(data_copy_feature_new.columns):\n",
    "    Aging_V1(data_copy_feature_new)"
   ]
  },
  {
   "cell_type": "code",
   "execution_count": null,
   "id": "a0ec833f",
   "metadata": {},
   "outputs": [],
   "source": []
  },
  {
   "cell_type": "code",
   "execution_count": 42,
   "id": "47298dbb",
   "metadata": {},
   "outputs": [
    {
     "name": "stdout",
     "output_type": "stream",
     "text": [
      "         年龄区间  占比%\n",
      "年龄区间              \n",
      "30~40岁  13513   40\n",
      "40~50岁   9400   28\n",
      "50~60岁   4237   12\n",
      "20岁下     3547   10\n",
      "20~30岁   2110    6\n",
      "60~70岁    507    1\n",
      "70岁+        3    0\n"
     ]
    },
    {
     "data": {
      "image/png": "[encoded data removed]",
      "text/plain": [
       "<Figure size 1200x400 with 1 Axes>"
      ]
     },
     "metadata": {},
     "output_type": "display_data"
    }
   ],
   "source": [
    "# 借款人年龄进行分区，并画出图像\n",
    "if \"年龄\" in list(data_copy_feature_new.columns):\n",
    "    age_V1(data_copy_feature_new)"
   ]
  },
  {
   "cell_type": "code",
   "execution_count": null,
   "id": "ab5bf452",
   "metadata": {},
   "outputs": [],
   "source": []
  },
  {
   "cell_type": "code",
   "execution_count": 43,
   "id": "ddac55f6",
   "metadata": {},
   "outputs": [
    {
     "name": "stdout",
     "output_type": "stream",
     "text": [
      "       性别  占比%\n",
      "性别            \n",
      "男   28182   84\n",
      "女    5135   15\n"
     ]
    },
    {
     "data": {
      "image/png": "[encoded data removed]",
      "text/plain": [
       "<Figure size 1200x400 with 1 Axes>"
      ]
     },
     "metadata": {},
     "output_type": "display_data"
    }
   ],
   "source": [
    "# 性别分析，并画出图像\n",
    "if \"性别\" in list(data_copy_feature_new.columns):\n",
    "    sex_V1(data_copy_feature_new)"
   ]
  },
  {
   "cell_type": "code",
   "execution_count": null,
   "id": "f530e6c8",
   "metadata": {},
   "outputs": [],
   "source": []
  },
  {
   "cell_type": "code",
   "execution_count": 44,
   "id": "d5602d2d",
   "metadata": {},
   "outputs": [
    {
     "name": "stdout",
     "output_type": "stream",
     "text": [
      "       省份  占比%\n",
      "省份            \n",
      "广东省  8746   34\n",
      "湖南   4596   18\n",
      "广西   2977   11\n",
      "湖北省  2739   10\n",
      "四川省  1937    7\n",
      "江西省  1742    6\n",
      "河南省  1524    6\n",
      "陕西省   653    2\n",
      "云南省   468    1\n"
     ]
    },
    {
     "data": {
      "image/png": "[encoded data removed]",
      "text/plain": [
       "<Figure size 1200x400 with 1 Axes>"
      ]
     },
     "metadata": {},
     "output_type": "display_data"
    }
   ],
   "source": [
    "# 户籍省份，并画出图像\n",
    "if \"省份\" in list(data_copy_feature_new.columns):\n",
    "    province_V1(data_copy_feature_new)"
   ]
  },
  {
   "cell_type": "code",
   "execution_count": 45,
   "id": "2ce88ae8",
   "metadata": {},
   "outputs": [
    {
     "ename": "ValueError",
     "evalue": "The truth value of a Series is ambiguous. Use a.empty, a.bool(), a.item(), a.any() or a.all().",
     "output_type": "error",
     "traceback": [
      "\u001b[1;31m---------------------------------------------------------------------------\u001b[0m",
      "\u001b[1;31mValueError\u001b[0m                                Traceback (most recent call last)",
      "\u001b[1;32m~\\AppData\\Local\\Temp\\ipykernel_16996\\204855082.py\u001b[0m in \u001b[0;36m<module>\u001b[1;34m\u001b[0m\n\u001b[0;32m      1\u001b[0m \u001b[1;31m# 学历分布，并画出图像\u001b[0m\u001b[1;33m\u001b[0m\u001b[1;33m\u001b[0m\u001b[0m\n\u001b[0;32m      2\u001b[0m \u001b[1;32mif\u001b[0m \u001b[1;34m\"学历\"\u001b[0m \u001b[1;32min\u001b[0m \u001b[0mlist\u001b[0m\u001b[1;33m(\u001b[0m\u001b[0mdata_copy_feature_new\u001b[0m\u001b[1;33m.\u001b[0m\u001b[0mcolumns\u001b[0m\u001b[1;33m)\u001b[0m\u001b[1;33m:\u001b[0m\u001b[1;33m\u001b[0m\u001b[1;33m\u001b[0m\u001b[0m\n\u001b[1;32m----> 3\u001b[1;33m     \u001b[0mschool_V1\u001b[0m\u001b[1;33m(\u001b[0m\u001b[0mdata_copy_feature_new\u001b[0m\u001b[1;33m)\u001b[0m\u001b[1;33m\u001b[0m\u001b[1;33m\u001b[0m\u001b[0m\n\u001b[0m",
      "\u001b[1;32m~\\AppData\\Local\\Temp\\ipykernel_16996\\1646958359.py\u001b[0m in \u001b[0;36mschool_V1\u001b[1;34m(x)\u001b[0m\n\u001b[0;32m      1\u001b[0m \u001b[1;31m# 借款人学历分布\u001b[0m\u001b[1;33m\u001b[0m\u001b[1;33m\u001b[0m\u001b[0m\n\u001b[0;32m      2\u001b[0m \u001b[1;32mdef\u001b[0m \u001b[0mschool_V1\u001b[0m\u001b[1;33m(\u001b[0m\u001b[0mx\u001b[0m\u001b[1;33m)\u001b[0m\u001b[1;33m:\u001b[0m\u001b[1;33m\u001b[0m\u001b[1;33m\u001b[0m\u001b[0m\n\u001b[1;32m----> 3\u001b[1;33m     \u001b[0mx\u001b[0m\u001b[1;33m[\u001b[0m\u001b[1;34m'学历'\u001b[0m\u001b[1;33m]\u001b[0m \u001b[1;33m=\u001b[0m  \u001b[0mx\u001b[0m\u001b[1;33m[\u001b[0m\u001b[1;34m'学历'\u001b[0m\u001b[1;33m]\u001b[0m\u001b[1;33m.\u001b[0m\u001b[0mapply\u001b[0m\u001b[1;33m(\u001b[0m\u001b[1;32mlambda\u001b[0m \u001b[0mx\u001b[0m\u001b[1;33m:\u001b[0m\u001b[1;34m\"1\"\u001b[0m \u001b[1;32mif\u001b[0m \u001b[0mx\u001b[0m\u001b[1;33m==\u001b[0m\u001b[1;34m\"XNA\"\u001b[0m \u001b[1;32melse\u001b[0m \u001b[0mx\u001b[0m\u001b[1;33m)\u001b[0m\u001b[1;33m\u001b[0m\u001b[1;33m\u001b[0m\u001b[0m\n\u001b[0m\u001b[0;32m      4\u001b[0m     \u001b[0mx1\u001b[0m \u001b[1;33m=\u001b[0m \u001b[0mx\u001b[0m\u001b[1;33m.\u001b[0m\u001b[0mgroupby\u001b[0m\u001b[1;33m(\u001b[0m\u001b[1;34m'学历'\u001b[0m\u001b[1;33m)\u001b[0m\u001b[1;33m[\u001b[0m\u001b[1;34m'学历'\u001b[0m\u001b[1;33m]\u001b[0m\u001b[1;33m.\u001b[0m\u001b[0mcount\u001b[0m\u001b[1;33m(\u001b[0m\u001b[1;33m)\u001b[0m\u001b[1;33m.\u001b[0m\u001b[0msort_values\u001b[0m\u001b[1;33m(\u001b[0m\u001b[0mascending\u001b[0m\u001b[1;33m=\u001b[0m\u001b[1;32mFalse\u001b[0m\u001b[1;33m)\u001b[0m\u001b[1;33m[\u001b[0m\u001b[1;33m:\u001b[0m\u001b[1;36m8\u001b[0m\u001b[1;33m]\u001b[0m\u001b[1;33m\u001b[0m\u001b[1;33m\u001b[0m\u001b[0m\n\u001b[0;32m      5\u001b[0m     \u001b[0mx1\u001b[0m \u001b[1;33m=\u001b[0m \u001b[0mx1\u001b[0m\u001b[1;33m[\u001b[0m\u001b[0mx1\u001b[0m\u001b[1;33m.\u001b[0m\u001b[0mindex\u001b[0m\u001b[1;33m!=\u001b[0m\u001b[1;34m\"1\"\u001b[0m\u001b[1;33m]\u001b[0m\u001b[1;33m\u001b[0m\u001b[1;33m\u001b[0m\u001b[0m\n",
      "\u001b[1;32mD:\\Anaconda\\lib\\site-packages\\pandas\\core\\frame.py\u001b[0m in \u001b[0;36mapply\u001b[1;34m(self, func, axis, raw, result_type, args, **kwargs)\u001b[0m\n\u001b[0;32m   8846\u001b[0m             \u001b[0mkwargs\u001b[0m\u001b[1;33m=\u001b[0m\u001b[0mkwargs\u001b[0m\u001b[1;33m,\u001b[0m\u001b[1;33m\u001b[0m\u001b[1;33m\u001b[0m\u001b[0m\n\u001b[0;32m   8847\u001b[0m         )\n\u001b[1;32m-> 8848\u001b[1;33m         \u001b[1;32mreturn\u001b[0m \u001b[0mop\u001b[0m\u001b[1;33m.\u001b[0m\u001b[0mapply\u001b[0m\u001b[1;33m(\u001b[0m\u001b[1;33m)\u001b[0m\u001b[1;33m.\u001b[0m\u001b[0m__finalize__\u001b[0m\u001b[1;33m(\u001b[0m\u001b[0mself\u001b[0m\u001b[1;33m,\u001b[0m \u001b[0mmethod\u001b[0m\u001b[1;33m=\u001b[0m\u001b[1;34m\"apply\"\u001b[0m\u001b[1;33m)\u001b[0m\u001b[1;33m\u001b[0m\u001b[1;33m\u001b[0m\u001b[0m\n\u001b[0m\u001b[0;32m   8849\u001b[0m \u001b[1;33m\u001b[0m\u001b[0m\n\u001b[0;32m   8850\u001b[0m     def applymap(\n",
      "\u001b[1;32mD:\\Anaconda\\lib\\site-packages\\pandas\\core\\apply.py\u001b[0m in \u001b[0;36mapply\u001b[1;34m(self)\u001b[0m\n\u001b[0;32m    731\u001b[0m             \u001b[1;32mreturn\u001b[0m \u001b[0mself\u001b[0m\u001b[1;33m.\u001b[0m\u001b[0mapply_raw\u001b[0m\u001b[1;33m(\u001b[0m\u001b[1;33m)\u001b[0m\u001b[1;33m\u001b[0m\u001b[1;33m\u001b[0m\u001b[0m\n\u001b[0;32m    732\u001b[0m \u001b[1;33m\u001b[0m\u001b[0m\n\u001b[1;32m--> 733\u001b[1;33m         \u001b[1;32mreturn\u001b[0m \u001b[0mself\u001b[0m\u001b[1;33m.\u001b[0m\u001b[0mapply_standard\u001b[0m\u001b[1;33m(\u001b[0m\u001b[1;33m)\u001b[0m\u001b[1;33m\u001b[0m\u001b[1;33m\u001b[0m\u001b[0m\n\u001b[0m\u001b[0;32m    734\u001b[0m \u001b[1;33m\u001b[0m\u001b[0m\n\u001b[0;32m    735\u001b[0m     \u001b[1;32mdef\u001b[0m \u001b[0magg\u001b[0m\u001b[1;33m(\u001b[0m\u001b[0mself\u001b[0m\u001b[1;33m)\u001b[0m\u001b[1;33m:\u001b[0m\u001b[1;33m\u001b[0m\u001b[1;33m\u001b[0m\u001b[0m\n",
      "\u001b[1;32mD:\\Anaconda\\lib\\site-packages\\pandas\\core\\apply.py\u001b[0m in \u001b[0;36mapply_standard\u001b[1;34m(self)\u001b[0m\n\u001b[0;32m    855\u001b[0m \u001b[1;33m\u001b[0m\u001b[0m\n\u001b[0;32m    856\u001b[0m     \u001b[1;32mdef\u001b[0m \u001b[0mapply_standard\u001b[0m\u001b[1;33m(\u001b[0m\u001b[0mself\u001b[0m\u001b[1;33m)\u001b[0m\u001b[1;33m:\u001b[0m\u001b[1;33m\u001b[0m\u001b[1;33m\u001b[0m\u001b[0m\n\u001b[1;32m--> 857\u001b[1;33m         \u001b[0mresults\u001b[0m\u001b[1;33m,\u001b[0m \u001b[0mres_index\u001b[0m \u001b[1;33m=\u001b[0m \u001b[0mself\u001b[0m\u001b[1;33m.\u001b[0m\u001b[0mapply_series_generator\u001b[0m\u001b[1;33m(\u001b[0m\u001b[1;33m)\u001b[0m\u001b[1;33m\u001b[0m\u001b[1;33m\u001b[0m\u001b[0m\n\u001b[0m\u001b[0;32m    858\u001b[0m \u001b[1;33m\u001b[0m\u001b[0m\n\u001b[0;32m    859\u001b[0m         \u001b[1;31m# wrap results\u001b[0m\u001b[1;33m\u001b[0m\u001b[1;33m\u001b[0m\u001b[0m\n",
      "\u001b[1;32mD:\\Anaconda\\lib\\site-packages\\pandas\\core\\apply.py\u001b[0m in \u001b[0;36mapply_series_generator\u001b[1;34m(self)\u001b[0m\n\u001b[0;32m    871\u001b[0m             \u001b[1;32mfor\u001b[0m \u001b[0mi\u001b[0m\u001b[1;33m,\u001b[0m \u001b[0mv\u001b[0m \u001b[1;32min\u001b[0m \u001b[0menumerate\u001b[0m\u001b[1;33m(\u001b[0m\u001b[0mseries_gen\u001b[0m\u001b[1;33m)\u001b[0m\u001b[1;33m:\u001b[0m\u001b[1;33m\u001b[0m\u001b[1;33m\u001b[0m\u001b[0m\n\u001b[0;32m    872\u001b[0m                 \u001b[1;31m# ignore SettingWithCopy here in case the user mutates\u001b[0m\u001b[1;33m\u001b[0m\u001b[1;33m\u001b[0m\u001b[0m\n\u001b[1;32m--> 873\u001b[1;33m                 \u001b[0mresults\u001b[0m\u001b[1;33m[\u001b[0m\u001b[0mi\u001b[0m\u001b[1;33m]\u001b[0m \u001b[1;33m=\u001b[0m \u001b[0mself\u001b[0m\u001b[1;33m.\u001b[0m\u001b[0mf\u001b[0m\u001b[1;33m(\u001b[0m\u001b[0mv\u001b[0m\u001b[1;33m)\u001b[0m\u001b[1;33m\u001b[0m\u001b[1;33m\u001b[0m\u001b[0m\n\u001b[0m\u001b[0;32m    874\u001b[0m                 \u001b[1;32mif\u001b[0m \u001b[0misinstance\u001b[0m\u001b[1;33m(\u001b[0m\u001b[0mresults\u001b[0m\u001b[1;33m[\u001b[0m\u001b[0mi\u001b[0m\u001b[1;33m]\u001b[0m\u001b[1;33m,\u001b[0m \u001b[0mABCSeries\u001b[0m\u001b[1;33m)\u001b[0m\u001b[1;33m:\u001b[0m\u001b[1;33m\u001b[0m\u001b[1;33m\u001b[0m\u001b[0m\n\u001b[0;32m    875\u001b[0m                     \u001b[1;31m# If we have a view on v, we need to make a copy because\u001b[0m\u001b[1;33m\u001b[0m\u001b[1;33m\u001b[0m\u001b[0m\n",
      "\u001b[1;32m~\\AppData\\Local\\Temp\\ipykernel_16996\\1646958359.py\u001b[0m in \u001b[0;36m<lambda>\u001b[1;34m(x)\u001b[0m\n\u001b[0;32m      1\u001b[0m \u001b[1;31m# 借款人学历分布\u001b[0m\u001b[1;33m\u001b[0m\u001b[1;33m\u001b[0m\u001b[0m\n\u001b[0;32m      2\u001b[0m \u001b[1;32mdef\u001b[0m \u001b[0mschool_V1\u001b[0m\u001b[1;33m(\u001b[0m\u001b[0mx\u001b[0m\u001b[1;33m)\u001b[0m\u001b[1;33m:\u001b[0m\u001b[1;33m\u001b[0m\u001b[1;33m\u001b[0m\u001b[0m\n\u001b[1;32m----> 3\u001b[1;33m     \u001b[0mx\u001b[0m\u001b[1;33m[\u001b[0m\u001b[1;34m'学历'\u001b[0m\u001b[1;33m]\u001b[0m \u001b[1;33m=\u001b[0m  \u001b[0mx\u001b[0m\u001b[1;33m[\u001b[0m\u001b[1;34m'学历'\u001b[0m\u001b[1;33m]\u001b[0m\u001b[1;33m.\u001b[0m\u001b[0mapply\u001b[0m\u001b[1;33m(\u001b[0m\u001b[1;32mlambda\u001b[0m \u001b[0mx\u001b[0m\u001b[1;33m:\u001b[0m\u001b[1;34m\"1\"\u001b[0m \u001b[1;32mif\u001b[0m \u001b[0mx\u001b[0m\u001b[1;33m==\u001b[0m\u001b[1;34m\"XNA\"\u001b[0m \u001b[1;32melse\u001b[0m \u001b[0mx\u001b[0m\u001b[1;33m)\u001b[0m\u001b[1;33m\u001b[0m\u001b[1;33m\u001b[0m\u001b[0m\n\u001b[0m\u001b[0;32m      4\u001b[0m     \u001b[0mx1\u001b[0m \u001b[1;33m=\u001b[0m \u001b[0mx\u001b[0m\u001b[1;33m.\u001b[0m\u001b[0mgroupby\u001b[0m\u001b[1;33m(\u001b[0m\u001b[1;34m'学历'\u001b[0m\u001b[1;33m)\u001b[0m\u001b[1;33m[\u001b[0m\u001b[1;34m'学历'\u001b[0m\u001b[1;33m]\u001b[0m\u001b[1;33m.\u001b[0m\u001b[0mcount\u001b[0m\u001b[1;33m(\u001b[0m\u001b[1;33m)\u001b[0m\u001b[1;33m.\u001b[0m\u001b[0msort_values\u001b[0m\u001b[1;33m(\u001b[0m\u001b[0mascending\u001b[0m\u001b[1;33m=\u001b[0m\u001b[1;32mFalse\u001b[0m\u001b[1;33m)\u001b[0m\u001b[1;33m[\u001b[0m\u001b[1;33m:\u001b[0m\u001b[1;36m8\u001b[0m\u001b[1;33m]\u001b[0m\u001b[1;33m\u001b[0m\u001b[1;33m\u001b[0m\u001b[0m\n\u001b[0;32m      5\u001b[0m     \u001b[0mx1\u001b[0m \u001b[1;33m=\u001b[0m \u001b[0mx1\u001b[0m\u001b[1;33m[\u001b[0m\u001b[0mx1\u001b[0m\u001b[1;33m.\u001b[0m\u001b[0mindex\u001b[0m\u001b[1;33m!=\u001b[0m\u001b[1;34m\"1\"\u001b[0m\u001b[1;33m]\u001b[0m\u001b[1;33m\u001b[0m\u001b[1;33m\u001b[0m\u001b[0m\n",
      "\u001b[1;32mD:\\Anaconda\\lib\\site-packages\\pandas\\core\\generic.py\u001b[0m in \u001b[0;36m__nonzero__\u001b[1;34m(self)\u001b[0m\n\u001b[0;32m   1525\u001b[0m     \u001b[1;33m@\u001b[0m\u001b[0mfinal\u001b[0m\u001b[1;33m\u001b[0m\u001b[1;33m\u001b[0m\u001b[0m\n\u001b[0;32m   1526\u001b[0m     \u001b[1;32mdef\u001b[0m \u001b[0m__nonzero__\u001b[0m\u001b[1;33m(\u001b[0m\u001b[0mself\u001b[0m\u001b[1;33m)\u001b[0m\u001b[1;33m:\u001b[0m\u001b[1;33m\u001b[0m\u001b[1;33m\u001b[0m\u001b[0m\n\u001b[1;32m-> 1527\u001b[1;33m         raise ValueError(\n\u001b[0m\u001b[0;32m   1528\u001b[0m             \u001b[1;34mf\"The truth value of a {type(self).__name__} is ambiguous. \"\u001b[0m\u001b[1;33m\u001b[0m\u001b[1;33m\u001b[0m\u001b[0m\n\u001b[0;32m   1529\u001b[0m             \u001b[1;34m\"Use a.empty, a.bool(), a.item(), a.any() or a.all().\"\u001b[0m\u001b[1;33m\u001b[0m\u001b[1;33m\u001b[0m\u001b[0m\n",
      "\u001b[1;31mValueError\u001b[0m: The truth value of a Series is ambiguous. Use a.empty, a.bool(), a.item(), a.any() or a.all()."
     ]
    }
   ],
   "source": [
    "# 学历分布，并画出图像\n",
    "if \"学历\" in list(data_copy_feature_new.columns):\n",
    "    school_V1(data_copy_feature_new)"
   ]
  },
  {
   "cell_type": "code",
   "execution_count": null,
   "id": "153a44b5",
   "metadata": {},
   "outputs": [],
   "source": []
  },
  {
   "cell_type": "code",
   "execution_count": null,
   "id": "79279798",
   "metadata": {},
   "outputs": [],
   "source": []
  },
  {
   "cell_type": "code",
   "execution_count": null,
   "id": "01f18356",
   "metadata": {},
   "outputs": [],
   "source": []
  }
 ],
 "metadata": {
  "kernelspec": {
   "display_name": "Python 3 (ipykernel)",
   "language": "python",
   "name": "python3"
  },
  "language_info": {
   "codemirror_mode": {
    "name": "ipython",
    "version": 3
   },
   "file_extension": ".py",
   "mimetype": "text/x-python",
   "name": "python",
   "nbconvert_exporter": "python",
   "pygments_lexer": "ipython3",
   "version": "3.9.13"
  }
 },
 "nbformat": 4,
 "nbformat_minor": 5
}
